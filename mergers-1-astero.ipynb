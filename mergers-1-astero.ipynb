{
 "cells": [
  {
   "cell_type": "markdown",
   "metadata": {},
   "source": [
    "# Merger models of blue supergiants \n",
    "\n",
    "Plots the period spacing and large frequency separation of merger models\n",
    "\n",
    "by [Earl Patrick Bellinger](https://earlbellinger.com)$^{1,2,3}$\n",
    "\n",
    "$^1$_Max Planck Institute for Astrophysics, Garching, Germany_ \\\n",
    "$^2$_Yale University, USA_ \\\n",
    "$^3$_Stellar Astrophysics Centre, Aarhus, Denmark_"
   ]
  },
  {
   "cell_type": "code",
   "execution_count": 1,
   "metadata": {
    "ExecuteTime": {
     "end_time": "2023-10-28T23:00:29.850343Z",
     "start_time": "2023-10-28T23:00:26.477734Z"
    }
   },
   "outputs": [],
   "source": [
    "import os\n",
    "\n",
    "import numpy as np\n",
    "import scipy as sp\n",
    "import pandas as pd\n",
    "\n",
    "import matplotlib as mpl\n",
    "import matplotlib.pyplot as plt\n",
    "from matplotlib.pyplot import cm\n",
    "\n",
    "from scipy.signal import savgol_filter\n",
    "\n",
    "from ipywidgets import interact, IntSlider\n",
    "\n",
    "import seaborn as sns\n",
    "\n",
    "import functools\n",
    "\n",
    "import pickle"
   ]
  },
  {
   "cell_type": "code",
   "execution_count": 2,
   "metadata": {
    "ExecuteTime": {
     "end_time": "2023-10-28T23:00:29.853996Z",
     "start_time": "2023-10-28T23:00:29.851837Z"
    }
   },
   "outputs": [],
   "source": [
    "from matplotlib.colors import Normalize\n",
    "from matplotlib.patches import Ellipse\n",
    "from matplotlib.colors import BoundaryNorm, ListedColormap"
   ]
  },
  {
   "cell_type": "code",
   "execution_count": 3,
   "metadata": {
    "ExecuteTime": {
     "end_time": "2023-10-28T23:00:29.939107Z",
     "start_time": "2023-10-28T23:00:29.854855Z"
    }
   },
   "outputs": [],
   "source": [
    "from scipy.interpolate import UnivariateSpline"
   ]
  },
  {
   "cell_type": "code",
   "execution_count": 4,
   "metadata": {
    "ExecuteTime": {
     "end_time": "2023-10-28T23:00:30.006344Z",
     "start_time": "2023-10-28T23:00:29.940328Z"
    }
   },
   "outputs": [],
   "source": [
    "# Set plotting style \n",
    "sns.set(style=\"ticks\", palette=\"muted\", \n",
    "        rc={\"xtick.bottom\" : True, \"ytick.left\" : True})\n",
    "plt.style.use('thinfig')"
   ]
  },
  {
   "cell_type": "code",
   "execution_count": 5,
   "metadata": {
    "ExecuteTime": {
     "end_time": "2023-10-28T23:00:30.072076Z",
     "start_time": "2023-10-28T23:00:30.008463Z"
    }
   },
   "outputs": [],
   "source": [
    "red = \"#CA0020\"\n",
    "orange = \"#F97100\" \n",
    "blue = \"#0571b0\""
   ]
  },
  {
   "cell_type": "code",
   "execution_count": 6,
   "metadata": {
    "ExecuteTime": {
     "end_time": "2023-10-28T23:00:30.195328Z",
     "start_time": "2023-10-28T23:00:30.073331Z"
    }
   },
   "outputs": [],
   "source": [
    "import importlib\n",
    "#import star\n",
    "#importlib.reload(star)\n",
    "#from star import *\n",
    "from mesagrid import Track, Grid"
   ]
  },
  {
   "cell_type": "code",
   "execution_count": 7,
   "metadata": {
    "ExecuteTime": {
     "end_time": "2023-10-28T23:00:30.230647Z",
     "start_time": "2023-10-28T23:00:30.196379Z"
    }
   },
   "outputs": [],
   "source": [
    "def load_history_extras(self, DF_):\n",
    "    # period spacing\n",
    "    delta_Pg_dict = {} \n",
    "    gyres = self.get_gyres()\n",
    "    for i, gyre in enumerate(gyres):\n",
    "        profile_number = self.index.profile_number[i]\n",
    "        model_number = self.index.loc[self.index.profile_number == profile_number, 'model_number'].values[0]\n",
    "        N  = gyre.N\n",
    "        x  = gyre.r\n",
    "        m  = gyre.m\n",
    "        delta_Pg = 2*np.pi**2/np.sqrt(2)/ sp.integrate.trapz(N[N>0]/x[N>0], x[N>0])\n",
    "        delta_Pg_dict[model_number] = delta_Pg\n",
    "    DF_['delta_Pg'] = DF_['model_number'].map(delta_Pg_dict)\n",
    "    \n",
    "    self._gyres = None\n",
    "    self._profiles = None\n",
    "    \n",
    "    # velocity in HRD \n",
    "    v_hr = np.sqrt(np.diff(DF_['log_L'])**2 + np.diff(DF_['log_Teff'])**2) / np.diff(DF_['star_age'])\n",
    "    DF_['v_hr'] = np.concatenate(([np.nan], v_hr))\n",
    "    \n",
    "    return DF_\n"
   ]
  },
  {
   "cell_type": "code",
   "execution_count": 8,
   "metadata": {
    "ExecuteTime": {
     "end_time": "2023-10-28T23:00:30.314181Z",
     "start_time": "2023-10-28T23:00:30.231956Z"
    }
   },
   "outputs": [],
   "source": [
    "usecols_history = ['model_number', 'star_age', 'log_Teff', 'log_L', 'center_h1', 'center_he4', \n",
    "                   'delta_nu', 'delta_Pg']\n",
    "cpus = 8"
   ]
  },
  {
   "cell_type": "code",
   "execution_count": 9,
   "metadata": {
    "ExecuteTime": {
     "end_time": "2023-10-28T23:00:30.380868Z",
     "start_time": "2023-10-28T23:00:30.315397Z"
    }
   },
   "outputs": [],
   "source": [
    "grid_dirs = [\"work/grid_normal\", \"work/grid_merge\", \"work/grid_semi\"]\n",
    "grid_normal, grid_merger, grid_semi = [\n",
    "    Grid(dir, load_history_extras=load_history_extras,\n",
    "                                usecols_history=usecols_history,\n",
    "                                cpus=cpus)\n",
    "            for dir in grid_dirs]"
   ]
  },
  {
   "cell_type": "code",
   "execution_count": 10,
   "metadata": {
    "ExecuteTime": {
     "end_time": "2023-10-28T23:00:30.521767Z",
     "start_time": "2023-10-28T23:00:30.382045Z"
    },
    "scrolled": true
   },
   "outputs": [
    {
     "name": "stderr",
     "output_type": "stream",
     "text": [
      "100%|██████████████████████████████████████████████████████████████| 22/22 [00:00<00:00, 7952.66it/s]\n"
     ]
    },
    {
     "data": {
      "text/plain": [
       "Grid with 22 tracks\n",
       "Columns: M, os, Z, Track\n",
       "M     [10.0, 11.0, 12.0, 13.0, 14.0, 15.0, 16.0, 17....\n",
       "os                                         [0.335, 0.7]\n",
       "Z                                                [0.02]\n",
       "dtype: object"
      ]
     },
     "execution_count": 10,
     "metadata": {},
     "output_type": "execute_result"
    }
   ],
   "source": [
    "grid_normal"
   ]
  },
  {
   "cell_type": "code",
   "execution_count": 11,
   "metadata": {
    "ExecuteTime": {
     "end_time": "2023-10-28T23:00:30.534972Z",
     "start_time": "2023-10-28T23:00:30.522914Z"
    }
   },
   "outputs": [
    {
     "name": "stderr",
     "output_type": "stream",
     "text": [
      "100%|██████████████████████████████████████████████████████████████| 19/19 [00:00<00:00, 3542.80it/s]\n"
     ]
    },
    {
     "data": {
      "text/plain": [
       "Grid with 19 tracks\n",
       "Columns: M, mc, mg, Ye, Z, Track\n",
       "M     [14.0, 15.0, 16.0, 10.0, 11.0, 12.0, 13.0, 17....\n",
       "mc                                    [0.3, 0.25, 0.35]\n",
       "mg                                     [0.3, 0.0, 0.15]\n",
       "Ye                                   [0.28, 0.31, 0.34]\n",
       "Z                                                [0.02]\n",
       "dtype: object"
      ]
     },
     "execution_count": 11,
     "metadata": {},
     "output_type": "execute_result"
    }
   ],
   "source": [
    "grid_merger"
   ]
  },
  {
   "cell_type": "code",
   "execution_count": 12,
   "metadata": {
    "ExecuteTime": {
     "end_time": "2023-10-28T23:00:30.596917Z",
     "start_time": "2023-10-28T23:00:30.535857Z"
    }
   },
   "outputs": [],
   "source": [
    "norm = mpl.colors.Normalize(vmin=-0.5, vmax=5.5)\n",
    "cmap = mpl.cm.ScalarMappable(norm=norm, cmap=mpl.cm.Greys_r)\n",
    "vmin = int(norm.vmin)\n",
    "vmax = int(norm.vmax)"
   ]
  },
  {
   "cell_type": "code",
   "execution_count": 13,
   "metadata": {
    "ExecuteTime": {
     "end_time": "2023-10-28T23:00:30.655294Z",
     "start_time": "2023-10-28T23:00:30.598123Z"
    }
   },
   "outputs": [],
   "source": [
    "#with open('grid_normal.pkl', 'rb') as f:\n",
    "    #grid_normal = pickle.load(f)"
   ]
  },
  {
   "cell_type": "code",
   "execution_count": 14,
   "metadata": {
    "ExecuteTime": {
     "end_time": "2023-10-28T23:00:30.714087Z",
     "start_time": "2023-10-28T23:00:30.657480Z"
    }
   },
   "outputs": [],
   "source": [
    "#with open('grid_merger.pkl', 'rb') as f:\n",
    "#    grid_merger = pickle.load(f)"
   ]
  },
  {
   "cell_type": "code",
   "execution_count": 15,
   "metadata": {
    "ExecuteTime": {
     "end_time": "2023-10-28T23:00:38.062301Z",
     "start_time": "2023-10-28T23:00:30.715291Z"
    }
   },
   "outputs": [
    {
     "name": "stdout",
     "output_type": "stream",
     "text": [
      "Parsing {'M': 10.0, 'os': 0.7, 'Z': 0.02, 'Track': <mesagrid.star.Track object at 0x7f1b0a38a6d0>}\n"
     ]
    },
    {
     "name": "stderr",
     "output_type": "stream",
     "text": [
      "100%|██████████████████████████████████████████████████████████████| 416/416 [00:07<00:00, 58.98it/s]\n"
     ]
    },
    {
     "data": {
      "text/plain": [
       "3.985362587216144e-09"
      ]
     },
     "execution_count": 15,
     "metadata": {},
     "output_type": "execute_result"
    }
   ],
   "source": [
    "grid_ = grid_normal.df[(grid_normal.df['os'] == 0.7) & (grid_normal.df['Z'] == 0.02)]\n",
    "c = np.nanmin(grid_.loc[grid_['M'].idxmin()]['Track'].history.v_hr)\n",
    "c"
   ]
  },
  {
   "cell_type": "markdown",
   "metadata": {},
   "source": [
    "# Plot"
   ]
  },
  {
   "cell_type": "code",
   "execution_count": 16,
   "metadata": {
    "ExecuteTime": {
     "end_time": "2023-10-28T23:00:38.067260Z",
     "start_time": "2023-10-28T23:00:38.063492Z"
    }
   },
   "outputs": [],
   "source": [
    "def get_data_points(DF_, label):\n",
    "    if DF_.center_he4[0] > 0.5: # merger\n",
    "        DF_ = DF_[DF_.center_he4 < 0.95]\n",
    "    else:\n",
    "        DF_ = DF_[DF_.center_h1 <= 0.7]\n",
    "    \n",
    "    if DF_.empty:\n",
    "        return []\n",
    "        \n",
    "    DF_ = DF_[10**DF_.log_Teff <= 20000]\n",
    "    DF_ = DF_[10**DF_.log_Teff >= 10000]\n",
    "    \n",
    "    if DF_.empty:\n",
    "        return []\n",
    "    \n",
    "    if label == 'H Shell' or label == 'Blue Loop':\n",
    "        DF_ = DF_[DF_.center_h1 <= 0.0001]\n",
    "    elif label == 'H Core':\n",
    "        DF_ = DF_[DF_.center_h1 >= 0.01]\n",
    "    \n",
    "    if DF_.empty:\n",
    "        return []\n",
    "    \n",
    "    if label == 'Merger' or label == 'H Core' or label == 'Blue Loop':\n",
    "        DF_ = DF_[DF_.v_hr/c < 100]\n",
    "    \n",
    "    if DF_.empty:\n",
    "        return []\n",
    "    \n",
    "    #return list(zip(DF_['delta_nu'], DF_['delta_Pg']/60, DF_['star_age']))\n",
    "    return pd.DataFrame({'delta_nu': DF_['delta_nu'], \n",
    "                         'delta_Pg': DF_['delta_Pg']/60, \n",
    "                         'star_age': DF_['star_age']})"
   ]
  },
  {
   "cell_type": "code",
   "execution_count": 17,
   "metadata": {
    "ExecuteTime": {
     "end_time": "2023-10-28T23:00:38.224872Z",
     "start_time": "2023-10-28T23:00:38.068147Z"
    }
   },
   "outputs": [],
   "source": [
    "def plot_data(points, color, label):\n",
    "    if len(points) == 0:\n",
    "        return \n",
    "    x = points.delta_nu.values\n",
    "    y = points.delta_Pg.values\n",
    "    plt.plot(x, y, c='lightgray', lw=1, zorder=-999)\n",
    "    plt.scatter(x, y, s=25, color=color)#, alpha=0.8)\n",
    "    plt.scatter(x[0], y[0], s=5, color='k', zorder=99)#, alpha=0.8)"
   ]
  },
  {
   "cell_type": "code",
   "execution_count": 34,
   "metadata": {
    "ExecuteTime": {
     "end_time": "2023-10-28T23:20:34.487234Z",
     "start_time": "2023-10-28T23:20:34.483825Z"
    }
   },
   "outputs": [],
   "source": [
    "def add_labels(xlim = [0.5, 20], ylim = [10, 500]):\n",
    "    plt.text(1.1, 50, 'He Core', size=20, color='k')\n",
    "    plt.text(1.2, 130, 'H Core', size=20, color='k')\n",
    "    \n",
    "    plt.semilogx()\n",
    "    plt.semilogy()\n",
    "    plt.ylim(ylim)\n",
    "    plt.xlim(xlim)\n",
    "    plt.gca().set_xticks([1, 2, 5, 10])\n",
    "    plt.gca().set_xticklabels(['1', '2', '5', '10'])\n",
    "    plt.gca().set_yticks([10, 50, 100, 500])\n",
    "    plt.gca().set_yticklabels(['10', '50', '100', '500'])\n",
    "    \n",
    "    plt.xlabel(r'Large frequency separation $\\mathbf{\\Delta\\nu/\\mu}$Hz')\n",
    "    plt.ylabel(r'Period spacing $\\mathbf{\\Delta\\Pi/}$min')"
   ]
  },
  {
   "cell_type": "code",
   "execution_count": 19,
   "metadata": {
    "ExecuteTime": {
     "end_time": "2023-10-28T23:02:53.106488Z",
     "start_time": "2023-10-28T23:00:38.293311Z"
    }
   },
   "outputs": [
    {
     "name": "stdout",
     "output_type": "stream",
     "text": [
      "Parsing {'M': 11.0, 'os': 0.7, 'Z': 0.02, 'Track': <mesagrid.star.Track object at 0x7f1b0a38a700>}\n"
     ]
    },
    {
     "name": "stderr",
     "output_type": "stream",
     "text": [
      "100%|██████████████████████████████████████████████████████████████| 423/423 [00:15<00:00, 28.08it/s]\n"
     ]
    },
    {
     "name": "stdout",
     "output_type": "stream",
     "text": [
      "Parsing {'M': 12.0, 'os': 0.7, 'Z': 0.02, 'Track': <mesagrid.star.Track object at 0x7f1b0a38a730>}\n"
     ]
    },
    {
     "name": "stderr",
     "output_type": "stream",
     "text": [
      "100%|██████████████████████████████████████████████████████████████| 425/425 [00:11<00:00, 36.11it/s]\n"
     ]
    },
    {
     "name": "stdout",
     "output_type": "stream",
     "text": [
      "Parsing {'M': 13.0, 'os': 0.7, 'Z': 0.02, 'Track': <mesagrid.star.Track object at 0x7f1b0a38a760>}\n"
     ]
    },
    {
     "name": "stderr",
     "output_type": "stream",
     "text": [
      "100%|██████████████████████████████████████████████████████████████| 424/424 [00:10<00:00, 39.05it/s]\n"
     ]
    },
    {
     "name": "stdout",
     "output_type": "stream",
     "text": [
      "Parsing {'M': 14.0, 'os': 0.7, 'Z': 0.02, 'Track': <mesagrid.star.Track object at 0x7f1b0a38a790>}\n"
     ]
    },
    {
     "name": "stderr",
     "output_type": "stream",
     "text": [
      "100%|██████████████████████████████████████████████████████████████| 437/437 [00:10<00:00, 42.13it/s]\n"
     ]
    },
    {
     "name": "stdout",
     "output_type": "stream",
     "text": [
      "Parsing {'M': 15.0, 'os': 0.7, 'Z': 0.02, 'Track': <mesagrid.star.Track object at 0x7f1b0a38a7c0>}\n"
     ]
    },
    {
     "name": "stderr",
     "output_type": "stream",
     "text": [
      "100%|██████████████████████████████████████████████████████████████| 436/436 [00:10<00:00, 40.62it/s]\n"
     ]
    },
    {
     "name": "stdout",
     "output_type": "stream",
     "text": [
      "Parsing {'M': 16.0, 'os': 0.7, 'Z': 0.02, 'Track': <mesagrid.star.Track object at 0x7f1b0a38a7f0>}\n"
     ]
    },
    {
     "name": "stderr",
     "output_type": "stream",
     "text": [
      "100%|██████████████████████████████████████████████████████████████| 437/437 [00:09<00:00, 43.86it/s]\n"
     ]
    },
    {
     "name": "stdout",
     "output_type": "stream",
     "text": [
      "Parsing {'M': 17.0, 'os': 0.7, 'Z': 0.02, 'Track': <mesagrid.star.Track object at 0x7f1b0a38a820>}\n"
     ]
    },
    {
     "name": "stderr",
     "output_type": "stream",
     "text": [
      "100%|██████████████████████████████████████████████████████████████| 452/452 [00:19<00:00, 23.16it/s]\n"
     ]
    },
    {
     "name": "stdout",
     "output_type": "stream",
     "text": [
      "Parsing {'M': 18.0, 'os': 0.7, 'Z': 0.02, 'Track': <mesagrid.star.Track object at 0x7f1b0a38a850>}\n"
     ]
    },
    {
     "name": "stderr",
     "output_type": "stream",
     "text": [
      "100%|██████████████████████████████████████████████████████████████| 455/455 [00:07<00:00, 59.85it/s]\n"
     ]
    },
    {
     "name": "stdout",
     "output_type": "stream",
     "text": [
      "Parsing {'M': 19.0, 'os': 0.7, 'Z': 0.02, 'Track': <mesagrid.star.Track object at 0x7f1b0a38a880>}\n"
     ]
    },
    {
     "name": "stderr",
     "output_type": "stream",
     "text": [
      "100%|██████████████████████████████████████████████████████████████| 457/457 [00:08<00:00, 51.70it/s]\n"
     ]
    },
    {
     "name": "stdout",
     "output_type": "stream",
     "text": [
      "Parsing {'M': 20.0, 'os': 0.7, 'Z': 0.02, 'Track': <mesagrid.star.Track object at 0x7f1b0a38a8b0>}\n"
     ]
    },
    {
     "name": "stderr",
     "output_type": "stream",
     "text": [
      "100%|██████████████████████████████████████████████████████████████| 456/456 [00:10<00:00, 45.18it/s]\n"
     ]
    },
    {
     "name": "stdout",
     "output_type": "stream",
     "text": [
      "Parsing {'M': 15.0, 'mc': 0.3, 'mg': 0.3, 'Ye': 0.28, 'Z': 0.02, 'Track': <mesagrid.star.Track object at 0x7f1b0a38af10>}\n"
     ]
    },
    {
     "name": "stderr",
     "output_type": "stream",
     "text": [
      "100%|██████████████████████████████████████████████████████████████| 363/363 [00:08<00:00, 44.25it/s]\n"
     ]
    },
    {
     "data": {
      "image/png": "[encoded data removed]",
      "text/plain": [
       "<Figure size 460.8x327.6 with 1 Axes>"
      ]
     },
     "metadata": {},
     "output_type": "display_data"
    }
   ],
   "source": [
    "colors = [orange, blue]\n",
    "labels = ['H Core', 'Merger']\n",
    "\n",
    "plt.figure(figsize=(8*(4/5),6.5*(4/5)*(7/8)))\n",
    "plt.gca().set_rasterization_zorder(-1)\n",
    "\n",
    "grid = grid_normal.filter({'os': 0.7, \n",
    "                           'Z': 0.02})\n",
    "\n",
    "for row in grid.itertuples():\n",
    "    DF_ = row.Track.history\n",
    "    points = get_data_points(DF_, labels[0])\n",
    "    plot_data(points, colors[0], labels[0])\n",
    "\n",
    "grid = grid_merger.filter({'mc': 0.3, \n",
    "                           'Z': 0.02, \n",
    "                           'mg': 0.3,#'mg': 0, \n",
    "                           'Ye': 0.28,\n",
    "                           'M': [10, 15, 20]})\n",
    "\n",
    "for row in grid.itertuples():\n",
    "    DF_ = row.Track.history\n",
    "    points = get_data_points(DF_, labels[1])\n",
    "    plot_data(points, colors[1], labels[1])\n",
    "\n",
    "add_labels()\n",
    "#add_ellipses()\n",
    "#plt.savefig('figs/astero.pdf')"
   ]
  },
  {
   "cell_type": "code",
   "execution_count": 20,
   "metadata": {
    "ExecuteTime": {
     "end_time": "2023-10-28T23:02:53.153869Z",
     "start_time": "2023-10-28T23:02:53.120631Z"
    }
   },
   "outputs": [],
   "source": [
    "#with open('grid_normal.pkl', 'wb') as f:\n",
    "#    pickle.dump(grid_normal, f)"
   ]
  },
  {
   "cell_type": "code",
   "execution_count": 21,
   "metadata": {
    "ExecuteTime": {
     "end_time": "2023-10-28T23:02:53.324643Z",
     "start_time": "2023-10-28T23:02:53.155222Z"
    }
   },
   "outputs": [],
   "source": [
    "colors = [orange, blue]\n",
    "labels = ['H Core', 'Merger']\n",
    "\n",
    "def plot_normal(color='k'):#colors[0]):\n",
    "    grid = grid_normal.df[(grid_normal.df['os'] == 0.7)  & \n",
    "                          (grid_normal.df['Z']  == 0.02)]\n",
    "    plot_astero_normal(grid, color, labels[0])\n",
    "\n",
    "def plot_astero_normal(grid, color='k', label=labels[1]):\n",
    "    for row in grid.itertuples():\n",
    "        DF_ = row.Track.history\n",
    "        points = get_data_points(DF_, label)\n",
    "        if len(points) > 2:\n",
    "            x, y, star_age = points['delta_nu'], points['delta_Pg'], points['star_age']\n",
    "            spl_x = UnivariateSpline(star_age, x, s=0.5)\n",
    "            spl_y = UnivariateSpline(star_age, y, s=0.5)\n",
    "            star_age_new = np.linspace(min(star_age), max(star_age), 1000)\n",
    "            x_new = spl_x(star_age_new)\n",
    "            y_new = spl_y(star_age_new)\n",
    "            plt.plot(x_new, y_new, c=color, lw=3, zorder=999)\n",
    "\n",
    "def plot_astero(grid, color_variable='M', label=labels[1], cmap='coolwarm'):\n",
    "    min_color = grid[color_variable].min() \n",
    "    max_color = grid[color_variable].max()\n",
    "    norm = Normalize(vmin=min_color, vmax=max_color)\n",
    "    \n",
    "    for row in grid.itertuples():\n",
    "        DF_ = row.Track.history\n",
    "        points = get_data_points(DF_, label)\n",
    "        if len(points) > 0:\n",
    "            color = cm.get_cmap(cmap)(norm(getattr(row, color_variable)))#*len(points)\n",
    "            x, y, star_age = points['delta_nu'], points['delta_Pg'], points['star_age']#zip(*points)\n",
    "            \n",
    "            #spl_x = UnivariateSpline(star_age, x, s=0.5)\n",
    "            #spl_y = UnivariateSpline(star_age, y, s=0.5)\n",
    "            \n",
    "            #star_age_new = np.linspace(min(star_age), max(star_age), 1000)\n",
    "            #x_new = spl_x(star_age_new)\n",
    "            #y_new = spl_y(star_age_new)\n",
    "            \n",
    "            plt.plot(points['delta_nu'], points['delta_Pg'], c=color, lw=3)\n",
    "    sm = plt.cm.ScalarMappable(cmap=cmap, norm=norm)\n",
    "    sm.set_array([])\n",
    "    \n",
    "    cb = plt.colorbar(sm, label=label, ax=plt.gca())\n",
    "    cb.set_ticks([min_color, max_color])\n",
    "    \n",
    "    #plt.grid()"
   ]
  },
  {
   "cell_type": "code",
   "execution_count": 22,
   "metadata": {
    "ExecuteTime": {
     "end_time": "2023-10-28T23:02:53.388746Z",
     "start_time": "2023-10-28T23:02:53.325720Z"
    }
   },
   "outputs": [],
   "source": [
    "\n",
    "\n",
    "cmap = ListedColormap([red, \"#888888\", blue])\n",
    "def plot_astero(grid, color_variable='M', label=labels[1], cmap=cmap):\n",
    "    \n",
    "    boundaries = np.linspace(grid[color_variable].min(), grid[color_variable].max(), 4)\n",
    "    norm = BoundaryNorm(boundaries, cmap.N)\n",
    "    \n",
    "    for row in grid.itertuples():\n",
    "        DF_ = row.Track.history\n",
    "        points = get_data_points(DF_, label)\n",
    "        if len(points) > 0:\n",
    "            color = cmap(norm(getattr(row, color_variable)))#*len(points)\n",
    "            #x, y, star_age = points['delta_nu'], points['delta_Pg'], points['star_age']#zip(*points)\n",
    "            \n",
    "            #spl_x = UnivariateSpline(star_age, x, s=1)\n",
    "            #spl_y = UnivariateSpline(star_age, y, s=1)\n",
    "            \n",
    "            #star_age_new = np.linspace(min(star_age), max(star_age), 1000)\n",
    "            #x_new = spl_x(star_age_new)\n",
    "            #y_new = spl_y(star_age_new)\n",
    "            \n",
    "            plt.plot(points['delta_nu'], points['delta_Pg'], c=color, lw=5, alpha=0.9)\n",
    "    sm = plt.cm.ScalarMappable(cmap=cmap, norm=norm)\n",
    "    sm.set_array([])\n",
    "    \n",
    "    cb = plt.colorbar(sm, label=label, ax=plt.gca())\n",
    "    \n",
    "    # Set the ticks at parameter values instead of boundaries\n",
    "    param_values = param_changes[color_variable]  # Make sure param_changes is accessible within this function\n",
    "    cb.set_ticks(param_values)\n",
    "    \n",
    "    #plt.grid()\n"
   ]
  },
  {
   "cell_type": "code",
   "execution_count": 23,
   "metadata": {
    "ExecuteTime": {
     "end_time": "2023-10-28T23:02:53.462134Z",
     "start_time": "2023-10-28T23:02:53.390071Z"
    }
   },
   "outputs": [],
   "source": [
    "from matplotlib.lines import Line2D\n",
    "colors = [red, \"k\", blue] # specify your colors\n",
    "\n",
    "def plot_astero(grid, color_variable='M', label=labels[1]):\n",
    "    color_values = np.unique(grid[color_variable])  # unique color variable values\n",
    "    for row in grid.itertuples():\n",
    "        DF_ = row.Track.history\n",
    "        points = get_data_points(DF_, label)\n",
    "        if len(points) > 0:\n",
    "            color_var = getattr(row, color_variable)\n",
    "            color = colors[np.where(color_values == color_var)[0][0]] # assign color based on color_variable value\n",
    "            \n",
    "            #x, y, star_age = points['delta_nu'], points['delta_Pg'], points['star_age']\n",
    "            \n",
    "            #spl_x = UnivariateSpline(star_age, x, s=1)\n",
    "            #spl_y = UnivariateSpline(star_age, y, s=1)\n",
    "            \n",
    "            #star_age_new = np.linspace(min(star_age), max(star_age), 1000)\n",
    "            #x_new = spl_x(star_age_new)\n",
    "            #y_new = spl_y(star_age_new)\n",
    "            \n",
    "            plt.plot(points['delta_nu'], points['delta_Pg'], c=color, lw=5, alpha=0.9)\n",
    "            \n",
    "    # Creating custom legend\n",
    "    custom_lines = [Line2D([0], [0], color=clr, lw=3) for clr in colors]\n",
    "    \n",
    "    # Modify labels\n",
    "    labels = [str(int(val)) if val.is_integer() else str(val) for val in color_values]\n",
    "    \n",
    "    plt.legend(custom_lines, labels, title=label, loc='lower right')\n",
    "\n",
    "    #plt.grid()\n"
   ]
  },
  {
   "cell_type": "code",
   "execution_count": 35,
   "metadata": {
    "ExecuteTime": {
     "end_time": "2023-10-28T23:20:38.392160Z",
     "start_time": "2023-10-28T23:20:37.254218Z"
    }
   },
   "outputs": [
    {
     "name": "stderr",
     "output_type": "stream",
     "text": [
      "/tmp/ipykernel_29073/3797131030.py:11: MatplotlibDeprecationWarning: Auto-removal of overlapping axes is deprecated since 3.6 and will be removed two minor releases later; explicitly call ax.remove() as needed.\n",
      "  plt.subplot(2, 2, i+1)\n"
     ]
    },
    {
     "data": {
      "image/png": "[encoded data removed]",
      "text/plain": [
       "<Figure size 829.44x460.8 with 4 Axes>"
      ]
     },
     "metadata": {},
     "output_type": "display_data"
    }
   ],
   "source": [
    "default_dict = {'mc': 0.3, 'Z': 0.02, 'mg': 0.3, 'Ye': 0.28, 'M': 15}\n",
    "param_changes = {'M': [14, 15, 16], 'Ye': [0.28, 0.31, 0.34], 'mg': [0, 0.15, 0.3], 'mc': [0.25, 0.3, 0.35]}\n",
    "param_labels = {'M': r'$\\mathbf{M_\\ast/\\rm{M}}_\\odot}$', 'Ye': r'$\\mathbf{Y_s}$', \n",
    "                'mg': r'$\\mathbf{m_g/M_\\ast}$', 'mc': r'$\\mathbf{m_c/M_\\ast}$'}\n",
    "param_titles = {'M': 'Stellar mass', 'Ye': 'Envelope helium', 'mg': 'Gradient mass', 'mc': 'Core mass'}\n",
    "\n",
    "plt.figure(figsize=(8*(4/5)*2*0.9,6.4))\n",
    "plt.gca().set_rasterization_zorder(-1)\n",
    "\n",
    "for i, param in enumerate(['M', 'Ye', 'mg', 'mc']):\n",
    "    plt.subplot(2, 2, i+1)\n",
    "    plot_normal(color='lightgray')\n",
    "    \n",
    "    add_labels(xlim=[0.3, 15], ylim=[10, 500])\n",
    "    plt.axhline(100, ls='--', c='lightgray')\n",
    "    params = default_dict.copy()\n",
    "    params[param] = param_changes[param]\n",
    "    plot_astero(grid_merger.filter(params), color_variable=param, label=param_labels[param])\n",
    "    #plt.title(param_titles[param], weight='bold')\n",
    "\n",
    "plt.tight_layout();\n",
    "plt.savefig('figs/astero.pdf')"
   ]
  },
  {
   "cell_type": "code",
   "execution_count": 25,
   "metadata": {
    "ExecuteTime": {
     "end_time": "2023-10-28T23:04:13.136508Z",
     "start_time": "2023-10-28T23:04:13.134639Z"
    }
   },
   "outputs": [],
   "source": [
    "#with open('grid_merger.pkl', 'wb') as f:\n",
    "#    pickle.dump(grid_merger, f)"
   ]
  }
 ],
 "metadata": {
  "kernelspec": {
   "display_name": "Python 3 (ipykernel)",
   "language": "python",
   "name": "python3"
  },
  "language_info": {
   "codemirror_mode": {
    "name": "ipython",
    "version": 3
   },
   "file_extension": ".py",
   "mimetype": "text/x-python",
   "name": "python",
   "nbconvert_exporter": "python",
   "pygments_lexer": "ipython3",
   "version": "3.8.16"
  },
  "toc": {
   "base_numbering": 1,
   "nav_menu": {
    "height": "195px",
    "width": "335px"
   },
   "number_sections": true,
   "sideBar": true,
   "skip_h1_title": false,
   "title_cell": "Table of Contents",
   "title_sidebar": "Contents",
   "toc_cell": false,
   "toc_position": {
    "height": "calc(100% - 180px)",
    "left": "10px",
    "top": "150px",
    "width": "286px"
   },
   "toc_section_display": true,
   "toc_window_display": true
  },
  "varInspector": {
   "cols": {
    "lenName": 16,
    "lenType": 16,
    "lenVar": 40
   },
   "kernels_config": {
    "python": {
     "delete_cmd_postfix": "",
     "delete_cmd_prefix": "del ",
     "library": "var_list.py",
     "varRefreshCmd": "print(var_dic_list())"
    },
    "r": {
     "delete_cmd_postfix": ") ",
     "delete_cmd_prefix": "rm(",
     "library": "var_list.r",
     "varRefreshCmd": "cat(var_dic_list()) "
    }
   },
   "position": {
    "height": "665px",
    "left": "1420px",
    "right": "20px",
    "top": "159px",
    "width": "620px"
   },
   "types_to_exclude": [
    "module",
    "function",
    "builtin_function_or_method",
    "instance",
    "_Feature"
   ],
   "window_display": false
  }
 },
 "nbformat": 4,
 "nbformat_minor": 4
}
